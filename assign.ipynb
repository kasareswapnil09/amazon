{
 "cells": [
  {
   "cell_type": "code",
   "execution_count": 13,
   "id": "c8c63dbf",
   "metadata": {},
   "outputs": [
    {
     "name": "stdout",
     "output_type": "stream",
     "text": [
      "Requirement already satisfied: requests in c:\\users\\gaming\\anaconda3\\lib\\site-packages (2.26.0)\n",
      "Requirement already satisfied: charset-normalizer~=2.0.0 in c:\\users\\gaming\\anaconda3\\lib\\site-packages (from requests) (2.0.4)\n",
      "Requirement already satisfied: idna<4,>=2.5 in c:\\users\\gaming\\anaconda3\\lib\\site-packages (from requests) (3.2)\n",
      "Requirement already satisfied: certifi>=2017.4.17 in c:\\users\\gaming\\anaconda3\\lib\\site-packages (from requests) (2021.10.8)\n",
      "Requirement already satisfied: urllib3<1.27,>=1.21.1 in c:\\users\\gaming\\anaconda3\\lib\\site-packages (from requests) (1.26.7)\n",
      "Note: you may need to restart the kernel to use updated packages.\n"
     ]
    }
   ],
   "source": [
    "pip install requests"
   ]
  },
  {
   "cell_type": "code",
   "execution_count": 14,
   "id": "0f06e882",
   "metadata": {},
   "outputs": [
    {
     "name": "stdout",
     "output_type": "stream",
     "text": [
      "Collecting bs4\n",
      "  Downloading bs4-0.0.1.tar.gz (1.1 kB)\n",
      "Requirement already satisfied: beautifulsoup4 in c:\\users\\gaming\\anaconda3\\lib\\site-packages (from bs4) (4.10.0)\n",
      "Requirement already satisfied: soupsieve>1.2 in c:\\users\\gaming\\anaconda3\\lib\\site-packages (from beautifulsoup4->bs4) (2.2.1)\n",
      "Building wheels for collected packages: bs4\n",
      "  Building wheel for bs4 (setup.py): started\n",
      "  Building wheel for bs4 (setup.py): finished with status 'done'\n",
      "  Created wheel for bs4: filename=bs4-0.0.1-py3-none-any.whl size=1271 sha256=683807b0aa7c416c02bb49801fe497966a839e1c901f5ab7fcc28b9fea4c5425\n",
      "  Stored in directory: c:\\users\\gaming\\appdata\\local\\pip\\cache\\wheels\\73\\2b\\cb\\099980278a0c9a3e57ff1a89875ec07bfa0b6fcbebb9a8cad3\n",
      "Successfully built bs4\n",
      "Installing collected packages: bs4\n",
      "Successfully installed bs4-0.0.1\n",
      "Note: you may need to restart the kernel to use updated packages.\n"
     ]
    }
   ],
   "source": [
    "pip install bs4"
   ]
  },
  {
   "cell_type": "code",
   "execution_count": 9,
   "id": "3de1432e",
   "metadata": {},
   "outputs": [],
   "source": [
    "import requests\n",
    "from bs4 import BeautifulSoup"
   ]
  },
  {
   "cell_type": "code",
   "execution_count": 33,
   "id": "40356a8d",
   "metadata": {},
   "outputs": [
    {
     "name": "stdout",
     "output_type": "stream",
     "text": [
      "Enter number of pages20\n",
      "Bags in page1\n",
      "0\n",
      "Bags in page2\n",
      "0\n",
      "Bags in page3\n",
      "0\n",
      "Bags in page4\n",
      "0\n",
      "Bags in page5\n",
      "16\n",
      "Bags in page6\n",
      "0\n",
      "Bags in page7\n",
      "0\n",
      "Bags in page8\n",
      "16\n",
      "Bags in page9\n",
      "0\n",
      "Bags in page10\n",
      "0\n",
      "Bags in page11\n",
      "0\n",
      "Bags in page12\n",
      "0\n",
      "Bags in page13\n",
      "0\n",
      "Bags in page14\n",
      "0\n",
      "Bags in page15\n",
      "0\n",
      "Bags in page16\n",
      "0\n",
      "Bags in page17\n",
      "16\n",
      "Bags in page18\n",
      "16\n",
      "Bags in page19\n",
      "0\n",
      "Bags in page20\n",
      "16\n"
     ]
    }
   ],
   "source": [
    "pro_name=[]\n",
    "pro_pri=[]\n",
    "pro_url=[]\n",
    "pro_rat=[]\n",
    "pro_rev=[]\n",
    "\n",
    "\n",
    "page_num=input(\"Enter number of pages\")\n",
    "for i in range(1,int(page_num)+1):\n",
    "    url=\"https://www.amazon.in/s?k=bags&crid=2M096C61O4MLT&qid=1653308124&sprefix=ba%2Caps%2C283&ref=sr_pg_1\"\n",
    "    req=requests.get(url)\n",
    "    content=BeautifulSoup(req.content,'html.parser')\n",
    "    name=content.find_all(\"span\",{\"class\":\"a-size-medium a-color-base a-text-normal\"})\n",
    "    price=content.find_all(\"span\",{\"class\":\"a-offscreen\"})\n",
    "    url=content.find_all(\"div\",{\"class\":\"sg-col-inner\"})\n",
    "    rating=content.find_all(\"i\",{\"class\":\"a-icon a-icon-star-small a-star-small-4 aok-align-bottom\"})\n",
    "    review=content.find_all(\"div\",{\"class\":\"a-fixed-left-grid-col a-col-left\"})\n",
    "    \n",
    "    print(\"Bags in page\"+ str(i))\n",
    "    print(len(name))\n",
    "    \n",
    "    for i in name:\n",
    "        pro_name.append(i.text)\n",
    "    for i in price:\n",
    "        pro_pri.append(i.text)\n",
    "    for i in url:\n",
    "        pro_url.append(i.text)\n",
    "    for i in rating:\n",
    "        pro_rat.append(i.text)\n",
    "    for i in review:\n",
    "        pro_rev.append(i.text)"
   ]
  },
  {
   "cell_type": "code",
   "execution_count": 11,
   "id": "71d9be93",
   "metadata": {},
   "outputs": [
    {
     "name": "stdout",
     "output_type": "stream",
     "text": [
      "American Tourister 32 Ltrs Grey Casual Backpack (AMT FIZZ SCH BAG 02 - GREY)\n",
      "TRUE HUMAN Emperor Anti-Theft backpack With USB charging Port ( LEGEND ) and anti -theft back pocket Laptop bag ,office bag college bags\n",
      "Skybags Brat Black 46 Cms Casual Backpack\n",
      "Wesley Milestone 2.0 15.6 inch 30 L Casual Waterproof Laptop Backpack/Office Bag/School Bag/College Bag/Business Bag/Unisex Travel Backpack (Blue and Black)\n",
      "Martucci 15.6 inch 30 L Casual Waterproof Laptop Backpack/Office Bag/School Bag/College Bag/Business Bag/Unisex Travel Backpack(Black)\n",
      "Martucci Large 35 L Laptop Backpack Spacy Unisex Laptop/College/School/Travel Backpack with Rain Cover and Reflective Strip\n",
      "Bennett Mystic 15.6 inch(39.6cm) Laptop Shoulder Messenger Sling Office Bag, Water Repellent Fabric for Men and Women (Blue)\n",
      "Fur Jaden Brown Textured Leatherette Stylish & Spacious Weekender Duffle Bag for Travel\n",
      "AirCase 13 Inch/ 14 Inch/15.6 Inch Premium Vegan Leather Laptop Backpack for Men & Women\n",
      "Mi Step Out 12 L Mini Backpack (Small Size, Black, Water Repellant)\n",
      "ADISA Laptop Backpack 31 Ltrs\n",
      "Half Moon 30L Waterproof 15.6 inch Laptop Office School College Bag Backpack for Men Women Boys & Girls\n",
      "Wesley Milestone Casual Waterproof Laptop Backpack/Office Bag/School Bag/College Bag/Business Bag/Unisex Travel Backpack (Compatible with 15.6 inch Laptop) 30 L, Charcoal Black\n",
      "DEIN KLEIDER Men's Nylon Messenger Bag\n",
      "F Gear Luxur Brown 25 liter Laptop Backpack (2404)\n",
      "Hammonds Flycatcher Original Bombay Brown Leather Laptop Messenger Bag for Laptop/MacBook up to 15.6 inch|Padded Laptop Compartment|Office Bag\n"
     ]
    }
   ],
   "source": [
    "for i in pro_name:\n",
    "    print(i)"
   ]
  },
  {
   "cell_type": "code",
   "execution_count": 12,
   "id": "6fc42753",
   "metadata": {},
   "outputs": [
    {
     "name": "stdout",
     "output_type": "stream",
     "text": [
      "Requirement already satisfied: pandas in c:\\users\\gaming\\anaconda3\\lib\\site-packages (1.3.4)\n",
      "Note: you may need to restart the kernel to use updated packages.\n"
     ]
    },
    {
     "name": "stderr",
     "output_type": "stream",
     "text": [
      "ERROR: Could not find a version that satisfies the requirement as (from versions: none)\n",
      "ERROR: No matching distribution found for as\n"
     ]
    }
   ],
   "source": [
    "pip install pandas as pd"
   ]
  },
  {
   "cell_type": "code",
   "execution_count": 13,
   "id": "1383e12c",
   "metadata": {},
   "outputs": [],
   "source": [
    "import pandas as pd"
   ]
  },
  {
   "cell_type": "code",
   "execution_count": 22,
   "id": "67e32dfc",
   "metadata": {},
   "outputs": [
    {
     "name": "stdout",
     "output_type": "stream",
     "text": [
      "                                            pro name \n",
      "0   American Tourister 32 Ltrs Grey Casual Backpac...\n",
      "1   TRUE HUMAN Emperor Anti-Theft backpack With US...\n",
      "2           Skybags Brat Black 46 Cms Casual Backpack\n",
      "3   Wesley Milestone 2.0 15.6 inch 30 L Casual Wat...\n",
      "4   Martucci 15.6 inch 30 L Casual Waterproof Lapt...\n",
      "5   Martucci Large 35 L Laptop Backpack Spacy Unis...\n",
      "6   Bennett Mystic 15.6 inch(39.6cm) Laptop Should...\n",
      "7   Fur Jaden Brown Textured Leatherette Stylish &...\n",
      "8   AirCase 13 Inch/ 14 Inch/15.6 Inch Premium Veg...\n",
      "9   Mi Step Out 12 L Mini Backpack (Small Size, Bl...\n",
      "10                      ADISA Laptop Backpack 31 Ltrs\n",
      "11  Half Moon 30L Waterproof 15.6 inch Laptop Offi...\n",
      "12  Wesley Milestone Casual Waterproof Laptop Back...\n",
      "13             DEIN KLEIDER Men's Nylon Messenger Bag\n",
      "14  F Gear Luxur Brown 25 liter Laptop Backpack (2...\n",
      "15  Hammonds Flycatcher Original Bombay Brown Leat...\n"
     ]
    }
   ],
   "source": [
    "data = {\"pro name \":pro_name}\n",
    "df=pd.DataFrame(data)\n",
    "print(df)"
   ]
  },
  {
   "cell_type": "code",
   "execution_count": 29,
   "id": "a662f1e7",
   "metadata": {},
   "outputs": [
    {
     "name": "stdout",
     "output_type": "stream",
     "text": [
      "   pro name \n",
      "0       ₹899\n",
      "1     ₹2,300\n",
      "2       ₹709\n",
      "3     ₹2,100\n",
      "4       ₹669\n",
      "..       ...\n",
      "64    ₹1,199\n",
      "65    ₹1,090\n",
      "66    ₹2,580\n",
      "67    ₹2,672\n",
      "68   ₹12,999\n",
      "\n",
      "[69 rows x 1 columns]\n"
     ]
    }
   ],
   "source": [
    "data = {\"pro name \":pro_pri}\n",
    "df1=pd.DataFrame(data)\n",
    "print(df1)"
   ]
  },
  {
   "cell_type": "code",
   "execution_count": 34,
   "id": "ca440cb2",
   "metadata": {},
   "outputs": [
    {
     "name": "stdout",
     "output_type": "stream",
     "text": [
      "                                              pro url \n",
      "0      \\n\\n1-16 of over 100,000 results for \"bags\"\\n\\n\n",
      "1                                               \\n\\n\\n\n",
      "2    \\n\\n\\n\\n\\n\\n\\n\\n\\n\\n\\n\\n\\n\\n\\n\\n\\nSave up to 2...\n",
      "3                                         \\n\\n\\n\\n\\n\\n\n",
      "4    \\n\\nSave up to 28% with GST invoice and get bu...\n",
      "..                                                 ...\n",
      "585  \\n\\n\\n\\n\\n\\n\\n\\n\\n\\n                          ...\n",
      "586  \\n\\n\\n\\n\\n\\n\\n\\n\\n\\n                          ...\n",
      "587  \\n\\n\\n\\n\\n\\n\\n\\n\\n\\n                          ...\n",
      "588  \\nNeed help?\\nVisit the help section  or conta...\n",
      "589  \\n\\n\\n                  Skip to main search re...\n",
      "\n",
      "[590 rows x 1 columns]\n"
     ]
    }
   ],
   "source": [
    "data1 = {\"pro url \":pro_url}\n",
    "df2=pd.DataFrame(data1)\n",
    "print(df2)"
   ]
  },
  {
   "cell_type": "code",
   "execution_count": 35,
   "id": "203d0de5",
   "metadata": {},
   "outputs": [
    {
     "name": "stdout",
     "output_type": "stream",
     "text": [
      "           pro rating \n",
      "0   4.1 out of 5 stars\n",
      "1   3.8 out of 5 stars\n",
      "2   4.1 out of 5 stars\n",
      "3   3.8 out of 5 stars\n",
      "4   3.9 out of 5 stars\n",
      "..                 ...\n",
      "80  4.0 out of 5 stars\n",
      "81  4.0 out of 5 stars\n",
      "82  4.0 out of 5 stars\n",
      "83  4.0 out of 5 stars\n",
      "84  4.1 out of 5 stars\n",
      "\n",
      "[85 rows x 1 columns]\n"
     ]
    }
   ],
   "source": [
    "data2 = {\"pro rating \":pro_rat}\n",
    "df3=pd.DataFrame(data2)\n",
    "print(df3)"
   ]
  },
  {
   "cell_type": "code",
   "execution_count": 36,
   "id": "f38a68b3",
   "metadata": {},
   "outputs": [
    {
     "name": "stdout",
     "output_type": "stream",
     "text": [
      "  pro review \n",
      "0            \n",
      "1            \n",
      "2            \n",
      "3            \n",
      "4            \n"
     ]
    }
   ],
   "source": [
    "data3 = {\"pro review \":pro_rev}\n",
    "df4=pd.DataFrame(data3)\n",
    "print(df4)"
   ]
  },
  {
   "cell_type": "code",
   "execution_count": null,
   "id": "a1842afa",
   "metadata": {},
   "outputs": [],
   "source": []
  },
  {
   "cell_type": "code",
   "execution_count": 26,
   "id": "65a02bf6",
   "metadata": {},
   "outputs": [
    {
     "name": "stdout",
     "output_type": "stream",
     "text": [
      "   pro name \n",
      "0       ₹899\n",
      "1     ₹2,300\n",
      "2       ₹709\n",
      "3     ₹2,100\n",
      "4       ₹669\n",
      "..       ...\n",
      "64    ₹1,199\n",
      "65    ₹1,090\n",
      "66    ₹2,580\n",
      "67    ₹2,672\n",
      "68   ₹12,999\n",
      "\n",
      "[69 rows x 1 columns]\n"
     ]
    }
   ],
   "source": [
    "dataframe={\"pro name \":pro_name ,\"pro name \":pro_pri}\n",
    "Final_dataframe=pd.DataFrame(dataframe)\n",
    "print(Final_dataframe)"
   ]
  },
  {
   "cell_type": "code",
   "execution_count": 30,
   "id": "924c5a8d",
   "metadata": {},
   "outputs": [],
   "source": [
    "df1.to_csv('amaz_pri.csv')"
   ]
  },
  {
   "cell_type": "code",
   "execution_count": 37,
   "id": "6f30397c",
   "metadata": {},
   "outputs": [],
   "source": [
    "df2.to_csv('amaz_url.csv')"
   ]
  },
  {
   "cell_type": "code",
   "execution_count": 38,
   "id": "7b17c0b6",
   "metadata": {},
   "outputs": [],
   "source": [
    "df3.to_csv('amaz_rat.csv')"
   ]
  },
  {
   "cell_type": "code",
   "execution_count": 39,
   "id": "de172e1f",
   "metadata": {},
   "outputs": [],
   "source": [
    "df4.to_csv('amaz_review.csv')"
   ]
  }
 ],
 "metadata": {
  "kernelspec": {
   "display_name": "Python 3 (ipykernel)",
   "language": "python",
   "name": "python3"
  },
  "language_info": {
   "codemirror_mode": {
    "name": "ipython",
    "version": 3
   },
   "file_extension": ".py",
   "mimetype": "text/x-python",
   "name": "python",
   "nbconvert_exporter": "python",
   "pygments_lexer": "ipython3",
   "version": "3.9.7"
  }
 },
 "nbformat": 4,
 "nbformat_minor": 5
}
