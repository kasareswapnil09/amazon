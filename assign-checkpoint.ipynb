{
 "cells": [
  {
   "cell_type": "code",
   "execution_count": 13,
   "id": "eaf79725",
   "metadata": {},
   "outputs": [
    {
     "name": "stdout",
     "output_type": "stream",
     "text": [
      "Requirement already satisfied: requests in c:\\users\\gaming\\anaconda3\\lib\\site-packages (2.26.0)\n",
      "Requirement already satisfied: charset-normalizer~=2.0.0 in c:\\users\\gaming\\anaconda3\\lib\\site-packages (from requests) (2.0.4)\n",
      "Requirement already satisfied: idna<4,>=2.5 in c:\\users\\gaming\\anaconda3\\lib\\site-packages (from requests) (3.2)\n",
      "Requirement already satisfied: certifi>=2017.4.17 in c:\\users\\gaming\\anaconda3\\lib\\site-packages (from requests) (2021.10.8)\n",
      "Requirement already satisfied: urllib3<1.27,>=1.21.1 in c:\\users\\gaming\\anaconda3\\lib\\site-packages (from requests) (1.26.7)\n",
      "Note: you may need to restart the kernel to use updated packages.\n"
     ]
    }
   ],
   "source": [
    "pip install requests"
   ]
  },
  {
   "cell_type": "code",
   "execution_count": 14,
   "id": "627df99b",
   "metadata": {},
   "outputs": [
    {
     "name": "stdout",
     "output_type": "stream",
     "text": [
      "Collecting bs4\n",
      "  Downloading bs4-0.0.1.tar.gz (1.1 kB)\n",
      "Requirement already satisfied: beautifulsoup4 in c:\\users\\gaming\\anaconda3\\lib\\site-packages (from bs4) (4.10.0)\n",
      "Requirement already satisfied: soupsieve>1.2 in c:\\users\\gaming\\anaconda3\\lib\\site-packages (from beautifulsoup4->bs4) (2.2.1)\n",
      "Building wheels for collected packages: bs4\n",
      "  Building wheel for bs4 (setup.py): started\n",
      "  Building wheel for bs4 (setup.py): finished with status 'done'\n",
      "  Created wheel for bs4: filename=bs4-0.0.1-py3-none-any.whl size=1271 sha256=683807b0aa7c416c02bb49801fe497966a839e1c901f5ab7fcc28b9fea4c5425\n",
      "  Stored in directory: c:\\users\\gaming\\appdata\\local\\pip\\cache\\wheels\\73\\2b\\cb\\099980278a0c9a3e57ff1a89875ec07bfa0b6fcbebb9a8cad3\n",
      "Successfully built bs4\n",
      "Installing collected packages: bs4\n",
      "Successfully installed bs4-0.0.1\n",
      "Note: you may need to restart the kernel to use updated packages.\n"
     ]
    }
   ],
   "source": [
    "pip install bs4"
   ]
  },
  {
   "cell_type": "code",
   "execution_count": 9,
   "id": "cb4aac76",
   "metadata": {},
   "outputs": [],
   "source": [
    "import requests\n",
    "from bs4 import BeautifulSoup"
   ]
  },
  {
   "cell_type": "code",
   "execution_count": 10,
   "id": "464ff529",
   "metadata": {},
   "outputs": [
    {
     "name": "stdout",
     "output_type": "stream",
     "text": [
      "Enter number of pages2\n",
      "Bags in page1\n",
      "0\n",
      "Bags in page2\n",
      "16\n"
     ]
    }
   ],
   "source": [
    "pro_name=[]\n",
    "pro_pri=[]\n",
    "\n",
    "\n",
    "page_num=input(\"Enter number of pages\")\n",
    "for i in range(1,int(page_num)+1):\n",
    "    url=\"https://www.amazon.in/s?k=bags&crid=2M096C61O4MLT&qid=1653308124&sprefix=ba%2Caps%2C283&ref=sr_pg_1\"\n",
    "    req=requests.get(url)\n",
    "    content=BeautifulSoup(req.content,'html.parser')\n",
    "    name=content.find_all(\"span\",{\"class\":\"a-size-medium a-color-base a-text-normal\"})\n",
    "    price=content.find_all(\"span\",{\"class\":\"a-offscreen\"})\n",
    "    print(\"Bags in page\"+ str(i))\n",
    "    print(len(name))\n",
    "    \n",
    "    for i in name:\n",
    "        pro_name.append(i.text)\n",
    "    for i in price:\n",
    "        pro_pri.append(i.text)"
   ]
  },
  {
   "cell_type": "code",
   "execution_count": 11,
   "id": "4aa63cc0",
   "metadata": {},
   "outputs": [
    {
     "name": "stdout",
     "output_type": "stream",
     "text": [
      "American Tourister 32 Ltrs Grey Casual Backpack (AMT FIZZ SCH BAG 02 - GREY)\n",
      "TRUE HUMAN Emperor Anti-Theft backpack With USB charging Port ( LEGEND ) and anti -theft back pocket Laptop bag ,office bag college bags\n",
      "Skybags Brat Black 46 Cms Casual Backpack\n",
      "Wesley Milestone 2.0 15.6 inch 30 L Casual Waterproof Laptop Backpack/Office Bag/School Bag/College Bag/Business Bag/Unisex Travel Backpack (Blue and Black)\n",
      "Martucci 15.6 inch 30 L Casual Waterproof Laptop Backpack/Office Bag/School Bag/College Bag/Business Bag/Unisex Travel Backpack(Black)\n",
      "Martucci Large 35 L Laptop Backpack Spacy Unisex Laptop/College/School/Travel Backpack with Rain Cover and Reflective Strip\n",
      "Bennett Mystic 15.6 inch(39.6cm) Laptop Shoulder Messenger Sling Office Bag, Water Repellent Fabric for Men and Women (Blue)\n",
      "Fur Jaden Brown Textured Leatherette Stylish & Spacious Weekender Duffle Bag for Travel\n",
      "AirCase 13 Inch/ 14 Inch/15.6 Inch Premium Vegan Leather Laptop Backpack for Men & Women\n",
      "Mi Step Out 12 L Mini Backpack (Small Size, Black, Water Repellant)\n",
      "ADISA Laptop Backpack 31 Ltrs\n",
      "Half Moon 30L Waterproof 15.6 inch Laptop Office School College Bag Backpack for Men Women Boys & Girls\n",
      "Wesley Milestone Casual Waterproof Laptop Backpack/Office Bag/School Bag/College Bag/Business Bag/Unisex Travel Backpack (Compatible with 15.6 inch Laptop) 30 L, Charcoal Black\n",
      "DEIN KLEIDER Men's Nylon Messenger Bag\n",
      "F Gear Luxur Brown 25 liter Laptop Backpack (2404)\n",
      "Hammonds Flycatcher Original Bombay Brown Leather Laptop Messenger Bag for Laptop/MacBook up to 15.6 inch|Padded Laptop Compartment|Office Bag\n"
     ]
    }
   ],
   "source": [
    "for i in pro_name:\n",
    "    print(i)"
   ]
  },
  {
   "cell_type": "code",
   "execution_count": 12,
   "id": "f0fb79d5",
   "metadata": {},
   "outputs": [
    {
     "name": "stdout",
     "output_type": "stream",
     "text": [
      "Requirement already satisfied: pandas in c:\\users\\gaming\\anaconda3\\lib\\site-packages (1.3.4)\n",
      "Note: you may need to restart the kernel to use updated packages.\n"
     ]
    },
    {
     "name": "stderr",
     "output_type": "stream",
     "text": [
      "ERROR: Could not find a version that satisfies the requirement as (from versions: none)\n",
      "ERROR: No matching distribution found for as\n"
     ]
    }
   ],
   "source": [
    "pip install pandas as pd"
   ]
  },
  {
   "cell_type": "code",
   "execution_count": 13,
   "id": "cdec6573",
   "metadata": {},
   "outputs": [],
   "source": [
    "import pandas as pd"
   ]
  },
  {
   "cell_type": "code",
   "execution_count": 22,
   "id": "02c0c6bb",
   "metadata": {},
   "outputs": [
    {
     "name": "stdout",
     "output_type": "stream",
     "text": [
      "                                            pro name \n",
      "0   American Tourister 32 Ltrs Grey Casual Backpac...\n",
      "1   TRUE HUMAN Emperor Anti-Theft backpack With US...\n",
      "2           Skybags Brat Black 46 Cms Casual Backpack\n",
      "3   Wesley Milestone 2.0 15.6 inch 30 L Casual Wat...\n",
      "4   Martucci 15.6 inch 30 L Casual Waterproof Lapt...\n",
      "5   Martucci Large 35 L Laptop Backpack Spacy Unis...\n",
      "6   Bennett Mystic 15.6 inch(39.6cm) Laptop Should...\n",
      "7   Fur Jaden Brown Textured Leatherette Stylish &...\n",
      "8   AirCase 13 Inch/ 14 Inch/15.6 Inch Premium Veg...\n",
      "9   Mi Step Out 12 L Mini Backpack (Small Size, Bl...\n",
      "10                      ADISA Laptop Backpack 31 Ltrs\n",
      "11  Half Moon 30L Waterproof 15.6 inch Laptop Offi...\n",
      "12  Wesley Milestone Casual Waterproof Laptop Back...\n",
      "13             DEIN KLEIDER Men's Nylon Messenger Bag\n",
      "14  F Gear Luxur Brown 25 liter Laptop Backpack (2...\n",
      "15  Hammonds Flycatcher Original Bombay Brown Leat...\n"
     ]
    }
   ],
   "source": [
    "data = {\"pro name \":pro_name}\n",
    "df=pd.DataFrame(data)\n",
    "print(df)"
   ]
  },
  {
   "cell_type": "code",
   "execution_count": 20,
   "id": "c82dd764",
   "metadata": {},
   "outputs": [
    {
     "name": "stdout",
     "output_type": "stream",
     "text": [
      "   pro name \n",
      "0       ₹899\n",
      "1     ₹2,300\n",
      "2       ₹709\n",
      "3     ₹2,100\n",
      "4       ₹669\n",
      "..       ...\n",
      "64    ₹1,199\n",
      "65    ₹1,090\n",
      "66    ₹2,580\n",
      "67    ₹2,672\n",
      "68   ₹12,999\n",
      "\n",
      "[69 rows x 1 columns]\n"
     ]
    }
   ],
   "source": [
    "data = {\"pro name \":pro_pri}\n",
    "df=pd.DataFrame(data)\n",
    "print(df)"
   ]
  },
  {
   "cell_type": "code",
   "execution_count": 26,
   "id": "26ef8fa5",
   "metadata": {},
   "outputs": [
    {
     "name": "stdout",
     "output_type": "stream",
     "text": [
      "   pro name \n",
      "0       ₹899\n",
      "1     ₹2,300\n",
      "2       ₹709\n",
      "3     ₹2,100\n",
      "4       ₹669\n",
      "..       ...\n",
      "64    ₹1,199\n",
      "65    ₹1,090\n",
      "66    ₹2,580\n",
      "67    ₹2,672\n",
      "68   ₹12,999\n",
      "\n",
      "[69 rows x 1 columns]\n"
     ]
    }
   ],
   "source": [
    "dataframe={\"pro name \":pro_name ,\"pro name \":pro_pri}\n",
    "Final_dataframe=pd.DataFrame(dataframe)\n",
    "print(Final_dataframe)"
   ]
  }
 ],
 "metadata": {
  "kernelspec": {
   "display_name": "Python 3 (ipykernel)",
   "language": "python",
   "name": "python3"
  },
  "language_info": {
   "codemirror_mode": {
    "name": "ipython",
    "version": 3
   },
   "file_extension": ".py",
   "mimetype": "text/x-python",
   "name": "python",
   "nbconvert_exporter": "python",
   "pygments_lexer": "ipython3",
   "version": "3.9.7"
  }
 },
 "nbformat": 4,
 "nbformat_minor": 5
}
